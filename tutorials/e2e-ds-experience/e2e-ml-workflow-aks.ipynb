{
  "cells": [
    {
      "cell_type": "markdown",
      "source": [
        "# Tutorial: Create production ML pipelines with Python SDK v2 (preview) in a Jupyter notebook\n"
      ],
      "metadata": {}
    },
    {
      "cell_type": "markdown",
      "source": [
        "**Learning Objectives** - By the end of this two part tutorial, you should be able to use Azure Machine Learning (Azure ML) to productionize your ML project.\n",
        "\n",
        "This means you will be able to leverage the AzureML Python SDK to:\n",
        "\n",
        "- connect to your Azure ML workspace\n",
        "- create Azure ML data assets\n",
        "- create reusable Azure ML components\n",
        "- create, validate and run Azure ML pipelines\n",
        "- deploy the newly-trained model as an endpoint\n",
        "- call the Azure ML endpoint for inferencing"
      ],
      "metadata": {}
    },
    {
      "cell_type": "markdown",
      "source": [
        "**Motivations** - This tutorial is intended to introduce Azure ML to data scientists who want to scale up or publish their ML projects. By completing a familiar end-to-end project, which starts by loading the data and ends by creating and calling an online inference endpoint, the user should become familiar with the core concepts of Azure ML and their most common usage. Each step of this tutorial can be modified or performed in other ways that might have security or scalability advantages. We will cover some of those in the Part II of this tutorial, however, we suggest the reader use the provide links in each section to learn more on each topic."
      ],
      "metadata": {}
    },
    {
      "cell_type": "markdown",
      "source": [
        "**Requirements** - In order to benefit from this tutorial, you need to have:\n",
        "- basic understanding of Machine Learning projects workflow\n",
        "- an Azure subscription. If you don't have an Azure subscription, [create a free account](https://aka.ms/AMLFree) before you begin.\n",
        "- a working Azure ML workspace. A workspace can be created via Azure Portal, Azure CLI, or Python SDK. [Read more](https://docs.microsoft.com/en-us/azure/machine-learning/how-to-manage-workspace?tabs=python).\n",
        "- a Python environmnet\n",
        "- [installed Azure Machine Learning Python SDK v2](https://github.com/Azure/azureml-examples/blob/sdk-preview/sdk/setup.sh)"
      ],
      "metadata": {}
    },
    {
      "cell_type": "markdown",
      "source": [
        "## Introduction\n",
        "\n",
        "In this tutorial, you'll create an Azure ML pipeline to train a model for credit default prediction. The pipeline handles the data preparation, training and registering the trained model.  You'll then run the pipeline, deploy the model and use it.\n",
        "\n",
        "The image below shows the pipeline as you'll see it in the AzureML portal once submitted. It's a rather simple pipeline we'll use to walk you through the AzureML SDK v2.\n",
        "\n",
        "The two steps are first data preparation and second training. \n",
        "\n",
        "![Screenshot that shows the AML Pipeline](media/pipeline-overview.jpg \"Overview of the pipeline\")\n",
        "\n",
        "An AzureML pipeline that runs from local components, requires several dependent files. Fo better understanding of the project structure, we produce all these dependencies in the notebook cells. By the end of this tutorial, the project structure should look like:\n",
        "```\n",
        "e2e-ds-experience  \n",
        "    components\n",
        "        data_prep\n",
        "            data_prep.py \n",
        "        train\n",
        "            train.py\n",
        "            train.yml   \n",
        "    dependencies\n",
        "        conda.yml\n",
        "    deploy\n",
        "        sample-request.json\n",
        "    media\n",
        "        metrics.jpg\n",
        "        pipeline-overview.jpg\n",
        "        user-logs.jpg\n",
        "    e2e-ml-workflow.ipynb\n",
        "```\n",
        "After running this notebook, you should be able to create the project direcetly in the IDE of your choice, instead.\n",
        "\n",
        "## Set up the pipeline resources\n",
        "\n",
        "The Azure ML framework can be used from CLI, Python SDK, or studio interface. In this example, you'll use the AzureML Python SDK v2 to create a pipeline. \n",
        "\n",
        "Before creating the pipeline, you'll set up the resources the pipeline will use:\n",
        "\n",
        "* The dataset for training\n",
        "* The software environment to run the pipeline\n",
        "* A compute resource to where the job will run\n",
        "\n",
        "## Connect to the workspace\n",
        "\n",
        "Before we dive in the code, you'll need to connect to your Azure ML workspace. The workspace is the top-level resource for Azure Machine Learning, providing a centralized place to work with all the artifacts you create when you use Azure Machine Learning.\n",
        "\n",
        "We are using `DefaultAzureCredential` to get access to workspace. \n",
        "`DefaultAzureCredential` should be capable of handling most Azure SDK authentication scenarios. \n",
        "\n",
        "Reference for more available credentials if it does not work for you: [configure credential example](../../configuration.ipynb), [azure-identity reference doc](https://docs.microsoft.com/en-us/python/api/azure-identity/azure.identity?view=azure-python)."
      ],
      "metadata": {}
    },
    {
      "cell_type": "code",
      "source": [
        "# Handle to the workspace\n",
        "from azure.ai.ml import MLClient\n",
        "\n",
        "# Authentication package\n",
        "from azure.identity import DefaultAzureCredential, InteractiveBrowserCredential\n",
        "\n",
        "try:\n",
        "    credential = DefaultAzureCredential()\n",
        "    # Check if given credential can get token successfully.\n",
        "    credential.get_token(\"https://management.azure.com/.default\")\n",
        "except Exception as ex:\n",
        "    # Fall back to InteractiveBrowserCredential in case DefaultAzureCredential not work\n",
        "    credential = InteractiveBrowserCredential()"
      ],
      "outputs": [],
      "execution_count": 45,
      "metadata": {
        "attributes": {
          "classes": [
            "Python"
          ],
          "id": ""
        },
        "name": "import-mlclient",
        "gather": {
          "logged": 1682526009124
        }
      }
    },
    {
      "cell_type": "markdown",
      "source": [
        "In the next cell, enter your Subscription ID, Resource Group name and Workspace name. To find your Subscription ID:\n",
        "1. In the upper right Azure Machine Learning Studio toolbar, select your workspace name.\n",
        "1. At the bottom, select **View all properties in Azure Portal**\n",
        "1. Copy the value from Azure Portal into the code."
      ],
      "metadata": {}
    },
    {
      "cell_type": "code",
      "source": [
        "# Get a handle to the workspace\n",
        "ml_client = MLClient(\n",
        "    credential=credential,\n",
        "    subscription_id=\"191c696b-4f52-4038-9b9b-27cf6086fa00\",\n",
        "    resource_group_name=\"rg-yuenche-nn\",\n",
        "    workspace_name=\"aml-yuenche-nn\",\n",
        ")\n",
        "\n"
      ],
      "outputs": [],
      "execution_count": 46,
      "metadata": {
        "attributes": {
          "classes": [
            "Python"
          ],
          "id": ""
        },
        "name": "ml_client",
        "gather": {
          "logged": 1682526011021
        }
      }
    },
    {
      "cell_type": "markdown",
      "source": [
        "The result is a handler to the workspace that you'll use to manage other resources and jobs.\n",
        "\n",
        "> [!IMPORTANT]\n",
        "> Creating MLClient will not connect to the workspace. The client initialization is lazy, it will wait for the first time it needs to make a call (in the notebook below, that will happen during dataset registration).\n",
        "\n",
        "## Register data from an external url\n",
        "\n",
        "The data you use for training is usually in one of the locations below:\n",
        "\n",
        "* Local machine\n",
        "* Web\n",
        "* Big Data Storage services (for example, Azure Blob, Azure Data Lake Storage, SQL)\n",
        " \n",
        "Azure ML uses a [`Data`](https://docs.microsoft.com/azure/machine-learning/how-to-create-register-data-assets?tabs=Python-SDK) object to register a reusable definition of data, and consume data within a pipeline. In the section below, you'll consume some data from web url as one example. `Data` assets ets from other sources can be created as well."
      ],
      "metadata": {}
    },
    {
      "cell_type": "code",
      "source": [
        "from azure.ai.ml.entities import Data\n",
        "from azure.ai.ml.constants import AssetTypes\n",
        "\n",
        "web_path = \"https://archive.ics.uci.edu/ml/machine-learning-databases/00350/default%20of%20credit%20card%20clients.xls\"\n",
        "\n",
        "credit_data = Data(\n",
        "    name=\"creditcard_defaults\",\n",
        "    path=web_path,\n",
        "    type=AssetTypes.URI_FILE,\n",
        "    description=\"Dataset for credit card defaults\",\n",
        "    tags={\"source_type\": \"web\", \"source\": \"UCI ML Repo\"},\n",
        "    version=\"1.0.0\",\n",
        ")"
      ],
      "outputs": [],
      "execution_count": 47,
      "metadata": {
        "name": "credit_data",
        "gather": {
          "logged": 1682526013411
        }
      }
    },
    {
      "cell_type": "markdown",
      "source": [
        "This code just created a `Data` asset, it is ready to be consumed as an input by the pipeline that you'll define in the next sections. In addition, you can register the data to your workspace so it becomes reusable across pipelines.\n",
        "\n",
        "Registering the data asset will enable you to:\n",
        "\n",
        "* reuse and share the data asset in future pipelines\n",
        "* use versions to track the modification to the data asset\n",
        "* use the data asset from Azure ML designer, which is Azure ML's GUI for pipeline authoring\n",
        "\n",
        "Since this is the first time that you're making a call to the workspace, you may be asked to authenticate. Once the authentication is complete, you'll then see the dataset registration completion message."
      ],
      "metadata": {}
    },
    {
      "cell_type": "code",
      "source": [
        "credit_data = ml_client.data.create_or_update(credit_data)\n",
        "print(\n",
        "    f\"Dataset with name {credit_data.name} was registered to workspace, the dataset version is {credit_data.version}\"\n",
        ")"
      ],
      "outputs": [
        {
          "output_type": "stream",
          "name": "stdout",
          "text": "Dataset with name creditcard_defaults was registered to workspace, the dataset version is 1.0.0\n"
        }
      ],
      "execution_count": 48,
      "metadata": {
        "attributes": {
          "classes": [
            "Python"
          ],
          "id": ""
        },
        "name": "update-credit_data",
        "gather": {
          "logged": 1682526016119
        }
      }
    },
    {
      "cell_type": "markdown",
      "source": [
        "In the future, you can fetch the same dataset from the workspace using `credit_dataset = ml_client.data.get(\"<DATA ASSET NAME>\", version='<VERSION>')`.\n",
        "\n",
        "## Create a Compute Resource to run our pipeline\n",
        "\n",
        "Each step of an Azure ML pipeline can use a different compute resource for running the specific job of that step. It can be single or multi-node machines with Linux or Windows OS, or a specific compute fabric like Spark.\n",
        "\n",
        "In this section, we provision a Linux [compute cluster](https://docs.microsoft.com/azure/machine-learning/how-to-create-attach-compute-cluster?tabs=python). See the [full list on VM sizes and prices](https://azure.microsoft.com/en-ca/pricing/details/machine-learning/) .\n",
        "\n",
        "For this tutorial we only need a basic cluster, let's pick a Standard_DS3_v2 model with 2 vCPU cores, 7 GB RAM and create an Azure ML Compute"
      ],
      "metadata": {}
    },
    {
      "cell_type": "code",
      "source": [
        "from azure.ai.ml.entities import AmlCompute\n",
        "\n",
        "cpu_compute_target = \"cpu-cluster\"\n",
        "\n",
        "try:\n",
        "    # let's see if the compute target already exists\n",
        "    cpu_cluster = ml_client.compute.get(cpu_compute_target)\n",
        "    print(\n",
        "        f\"You already have a cluster named {cpu_compute_target}, we'll reuse it as is.\"\n",
        "    )\n",
        "\n",
        "except Exception:\n",
        "    print(\"Creating a new cpu compute target...\")\n",
        "\n",
        "    # Let's create the Azure ML compute object with the intended parameters\n",
        "    cpu_cluster = AmlCompute(\n",
        "        # Name assigned to the compute cluster\n",
        "        name=\"cpu-cluster\",\n",
        "        # Azure ML Compute is the on-demand VM service\n",
        "        type=\"amlcompute\",\n",
        "        # VM Family\n",
        "        size=\"STANDARD_DS3_V2\",\n",
        "        # Minimum running nodes when there is no job running\n",
        "        min_instances=0,\n",
        "        # Nodes in cluster\n",
        "        max_instances=4,\n",
        "        # How many seconds will the node running after the job termination\n",
        "        idle_time_before_scale_down=180,\n",
        "        # Dedicated or LowPriority. The latter is cheaper but there is a chance of job termination\n",
        "        tier=\"Dedicated\",\n",
        "    )\n",
        "\n",
        "    # Now, we pass the object to MLClient's create_or_update method\n",
        "    cpu_cluster = ml_client.begin_create_or_update(cpu_cluster)\n",
        "\n",
        "print(\n",
        "    f\"AMLCompute with name {cpu_cluster.name} is created, the compute size is {cpu_cluster.size}\"\n",
        ")"
      ],
      "outputs": [
        {
          "output_type": "stream",
          "name": "stdout",
          "text": "You already have a cluster named cpu-cluster, we'll reuse it as is.\nAMLCompute with name cpu-cluster is created, the compute size is STANDARD_DS3_V2\n"
        }
      ],
      "execution_count": 49,
      "metadata": {
        "name": "cpu_cluster",
        "gather": {
          "logged": 1682526018900
        }
      }
    },
    {
      "cell_type": "markdown",
      "source": [
        "## Create a job environment for pipeline steps\n",
        "\n",
        "So far, you've created a development environment on the compute instance, your development machine. You'll also need an [environment](https://docs.microsoft.com/azure/machine-learning/concept-environments) to use for each step of the pipeline. Each step can have its own environment, or you can use some common environments for multiple steps.\n",
        "\n",
        "In this example, you'll create a conda environment for your jobs, using a conda yaml file.\n",
        "First, create a directory to store the file in."
      ],
      "metadata": {}
    },
    {
      "cell_type": "code",
      "source": [
        "import os\n",
        "\n",
        "dependencies_dir = \"./dependencies\"\n",
        "os.makedirs(dependencies_dir, exist_ok=True)"
      ],
      "outputs": [],
      "execution_count": 51,
      "metadata": {
        "name": "dependencies_dir",
        "gather": {
          "logged": 1682526024338
        }
      }
    },
    {
      "cell_type": "markdown",
      "source": [
        "Now, create the file in the dependencies directory."
      ],
      "metadata": {}
    },
    {
      "cell_type": "code",
      "source": [
        "%%writefile {dependencies_dir}/conda.yml\n",
        "name: model-env\n",
        "channels:\n",
        "  - conda-forge\n",
        "dependencies:\n",
        "  - python=3.8\n",
        "  - numpy=1.21.2\n",
        "  - pip=21.2.4\n",
        "  - scikit-learn=0.24.2\n",
        "  - scipy=1.7.1\n",
        "  - pandas>=1.1,<1.2\n",
        "  - pip:\n",
        "    - inference-schema[numpy-support]==1.3.0\n",
        "    - xlrd==2.0.1\n",
        "    - mlflow== 1.26.1\n",
        "    - azureml-mlflow==1.42.0"
      ],
      "outputs": [
        {
          "output_type": "stream",
          "name": "stdout",
          "text": "Writing ./dependencies/conda.yml\n"
        }
      ],
      "execution_count": 53,
      "metadata": {
        "attributes": {
          "classes": [
            "Python"
          ],
          "id": ""
        },
        "name": "conda.yml"
      }
    },
    {
      "cell_type": "markdown",
      "source": [
        "The specification contains some usual packages, that you'll use in your pipeline (numpy, pip).\n",
        "\n",
        "\n",
        "Use the *yaml* file to create and register this custom environment in your workspace:"
      ],
      "metadata": {}
    },
    {
      "cell_type": "code",
      "source": [
        "from azure.ai.ml.entities import Environment\n",
        "\n",
        "custom_env_name = \"aml-scikit-learn\"\n",
        "\n",
        "pipeline_job_env = Environment(\n",
        "    name=custom_env_name,\n",
        "    description=\"Custom environment for Credit Card Defaults pipeline\",\n",
        "    tags={\"scikit-learn\": \"0.24.2\"},\n",
        "    conda_file=os.path.join(dependencies_dir, \"conda.yml\"),\n",
        "    image=\"mcr.microsoft.com/azureml/openmpi4.1.0-ubuntu20.04:latest\",\n",
        "    version=\"0.1.0\",\n",
        ")\n",
        "pipeline_job_env = ml_client.environments.create_or_update(pipeline_job_env)\n",
        "\n",
        "print(\n",
        "    f\"Environment with name {pipeline_job_env.name} is registered to workspace, the environment version is {pipeline_job_env.version}\"\n",
        ")"
      ],
      "outputs": [
        {
          "output_type": "stream",
          "name": "stdout",
          "text": "Environment with name aml-scikit-learn is registered to workspace, the environment version is 0.1.0\n"
        }
      ],
      "execution_count": 54,
      "metadata": {
        "attributes": {
          "classes": [
            "Python"
          ],
          "id": ""
        },
        "name": "custom_env_name",
        "gather": {
          "logged": 1682526053276
        }
      }
    },
    {
      "cell_type": "markdown",
      "source": [
        "## Build the training pipeline\n",
        "\n",
        "Now that you have all assets required to run your pipeline, it's time to build the pipeline itself, using the Azure ML Python SDK v2.\n",
        "\n",
        "Azure ML pipelines are reusable ML workflows that usually consist of several components. The typical life of a component is:\n",
        "\n",
        "* Write the yaml specification of the component.\n",
        "* Optionally, register the component with a name and version in your workspace, to make it reusable and shareable.\n",
        "* Load that component from the pipeline code.\n",
        "* Implement the pipeline using this component inputs, outputs and parameters.\n",
        "* Submit the pipeline.\n",
        "\n",
        "## Create component 1: data prep (using programmatic definition)\n",
        "\n",
        "Let's start by creating the first component. This component handles the preprocessing of the data. The preprocessing task is performed in the *data_prep.py* python file.\n",
        "\n",
        "First create a source folder for the data_prep component:"
      ],
      "metadata": {}
    },
    {
      "cell_type": "code",
      "source": [
        "import os\n",
        "\n",
        "data_prep_src_dir = \"./components/data_prep\"\n",
        "os.makedirs(data_prep_src_dir, exist_ok=True)"
      ],
      "outputs": [],
      "execution_count": 55,
      "metadata": {
        "attributes": {
          "classes": [
            "Python"
          ],
          "id": ""
        },
        "name": "data_prep_src_dir",
        "gather": {
          "logged": 1682526056105
        }
      }
    },
    {
      "cell_type": "markdown",
      "source": [
        "This script performs the simple task of splitting the data into train and test datasets. \n",
        "\n",
        "[MLFlow](https://mlflow.org/docs/latest/tracking.html) will be used to log the parameters and metrics during our pipeline run."
      ],
      "metadata": {}
    },
    {
      "cell_type": "code",
      "source": [
        "%%writefile {data_prep_src_dir}/data_prep.py\n",
        "import os\n",
        "import argparse\n",
        "import pandas as pd\n",
        "from sklearn.model_selection import train_test_split\n",
        "import logging\n",
        "import mlflow\n",
        "\n",
        "\n",
        "def main():\n",
        "    \"\"\"Main function of the script.\"\"\"\n",
        "\n",
        "    # input and output arguments\n",
        "    parser = argparse.ArgumentParser()\n",
        "    parser.add_argument(\"--data\", type=str, help=\"path to input data\")\n",
        "    parser.add_argument(\"--test_train_ratio\", type=float, required=False, default=0.25)\n",
        "    parser.add_argument(\"--train_data\", type=str, help=\"path to train data\")\n",
        "    parser.add_argument(\"--test_data\", type=str, help=\"path to test data\")\n",
        "    args = parser.parse_args()\n",
        "\n",
        "    # Start Logging\n",
        "    mlflow.start_run()\n",
        "\n",
        "    print(\" \".join(f\"{k}={v}\" for k, v in vars(args).items()))\n",
        "\n",
        "    print(\"input data:\", args.data)\n",
        "\n",
        "    credit_df = pd.read_excel(args.data, header=1, index_col=0)\n",
        "\n",
        "    mlflow.log_metric(\"num_samples\", credit_df.shape[0])\n",
        "    mlflow.log_metric(\"num_features\", credit_df.shape[1] - 1)\n",
        "\n",
        "    credit_train_df, credit_test_df = train_test_split(\n",
        "        credit_df,\n",
        "        test_size=args.test_train_ratio,\n",
        "    )\n",
        "\n",
        "    # output paths are mounted as folder, therefore, we are adding a filename to the path\n",
        "    credit_train_df.to_csv(os.path.join(args.train_data, \"data.csv\"), index=False)\n",
        "\n",
        "    credit_test_df.to_csv(os.path.join(args.test_data, \"data.csv\"), index=False)\n",
        "\n",
        "    # Stop Logging\n",
        "    mlflow.end_run()\n",
        "\n",
        "\n",
        "if __name__ == \"__main__\":\n",
        "    main()"
      ],
      "outputs": [
        {
          "output_type": "stream",
          "name": "stdout",
          "text": "Writing ./components/data_prep/data_prep.py\n"
        }
      ],
      "execution_count": 56,
      "metadata": {
        "attributes": {
          "classes": [
            "Python"
          ],
          "id": ""
        },
        "name": "def-main"
      }
    },
    {
      "cell_type": "markdown",
      "source": [
        "Now that you have a script that can perform the desired task, we can create an Azure ML Component from it. Azure ML support various types of components for performing ML tasks, such as running scripts, data transfer, etc.\n",
        "\n",
        "A component can be created by calling the component instantiators, or directly writing the defining yaml file. \n",
        "\n",
        "You'll use the general purpose **command** that can run command line actions. This command line action can be directly calling system commands or running a script. The inputs/outputs are accessible in the command via the `${{ ... }}` notation. For the second component of this tutorial you will use `yaml` definitions.\n"
      ],
      "metadata": {}
    },
    {
      "cell_type": "code",
      "source": [
        "from azure.ai.ml import command\n",
        "from azure.ai.ml import Input, Output\n",
        "\n",
        "data_prep_component = command(\n",
        "    name=\"data_prep_credit_defaults\",\n",
        "    display_name=\"Data preparation for training\",\n",
        "    description=\"reads a .xl input, split the input to train and test\",\n",
        "    inputs={\n",
        "        \"data\": Input(type=\"uri_folder\"),\n",
        "        \"test_train_ratio\": Input(type=\"number\"),\n",
        "    },\n",
        "    outputs=dict(\n",
        "        train_data=Output(type=\"uri_folder\", mode=\"rw_mount\"),\n",
        "        test_data=Output(type=\"uri_folder\", mode=\"rw_mount\"),\n",
        "    ),\n",
        "    # The source folder of the component\n",
        "    code=data_prep_src_dir,\n",
        "    command=\"\"\"python data_prep.py \\\n",
        "            --data ${{inputs.data}} --test_train_ratio ${{inputs.test_train_ratio}} \\\n",
        "            --train_data ${{outputs.train_data}} --test_data ${{outputs.test_data}} \\\n",
        "            \"\"\",\n",
        "    environment=f\"{pipeline_job_env.name}:{pipeline_job_env.version}\",\n",
        ")"
      ],
      "outputs": [],
      "execution_count": 57,
      "metadata": {
        "name": "data_prep_component",
        "gather": {
          "logged": 1682526068813
        }
      }
    },
    {
      "cell_type": "markdown",
      "source": [
        "Optionally, register the component in the workspace for future re-use. **command()** is a component builder, in order to fetch the component itself, we need to call the **.component** property from it."
      ],
      "metadata": {
        "nteract": {
          "transient": {
            "deleting": false
          }
        }
      }
    },
    {
      "cell_type": "code",
      "source": [
        "# Now we register the component to the workspace\n",
        "data_prep_component = ml_client.create_or_update(data_prep_component.component)\n",
        "\n",
        "# Create (register) the component in your workspace\n",
        "print(\n",
        "    f\"Component {data_prep_component.name} with Version {data_prep_component.version} is registered\"\n",
        ")"
      ],
      "outputs": [
        {
          "output_type": "stream",
          "name": "stdout",
          "text": "Component data_prep_credit_defaults with Version 2023-04-26-16-21-12-9216581 is registered\n"
        }
      ],
      "execution_count": 58,
      "metadata": {
        "gather": {
          "logged": 1682526075221
        }
      }
    },
    {
      "cell_type": "markdown",
      "source": [
        "## Create component 2: training (using yaml definition)\n",
        "\n",
        "The second component that you'll create will consume the training and test data, train a tree based model and return the output model. You'll use Azure ML logging capabilities to record and visualize the learning progress.\n",
        "\n",
        "You used the `command` class to create your first component. This time you'll use the yaml definition to define the second component. Each method has its own advantages. A yaml definition can actually be checked-in along the code, and would provide a readable history tracking. Also, the same yaml file can be used in the CLI for component deficnition. The programmatic method using `command` can be easier with built-in class documentation and code completion.\n",
        "\n",
        "\n",
        "Create the directory for this component:"
      ],
      "metadata": {}
    },
    {
      "cell_type": "code",
      "source": [
        "import os\n",
        "\n",
        "train_src_dir = \"./components/train\"\n",
        "os.makedirs(train_src_dir, exist_ok=True)"
      ],
      "outputs": [],
      "execution_count": 59,
      "metadata": {
        "attributes": {
          "classes": [
            "Python"
          ],
          "id": ""
        },
        "name": "train_src_dir",
        "gather": {
          "logged": 1682526079229
        }
      }
    },
    {
      "cell_type": "markdown",
      "source": [
        "Create the training script in the directory:"
      ],
      "metadata": {}
    },
    {
      "cell_type": "code",
      "source": [
        "%%writefile {train_src_dir}/train.py\n",
        "import argparse\n",
        "from sklearn.ensemble import GradientBoostingClassifier\n",
        "from sklearn.metrics import classification_report\n",
        "import os\n",
        "import pandas as pd\n",
        "import mlflow\n",
        "\n",
        "\n",
        "def select_first_file(path):\n",
        "    \"\"\"Selects first file in folder, use under assumption there is only one file in folder\n",
        "    Args:\n",
        "        path (str): path to directory or file to choose\n",
        "    Returns:\n",
        "        str: full path of selected file\n",
        "    \"\"\"\n",
        "    files = os.listdir(path)\n",
        "    return os.path.join(path, files[0])\n",
        "\n",
        "\n",
        "# Start Logging\n",
        "mlflow.start_run()\n",
        "\n",
        "# enable autologging\n",
        "mlflow.sklearn.autolog()\n",
        "\n",
        "os.makedirs(\"./outputs\", exist_ok=True)\n",
        "\n",
        "\n",
        "def main():\n",
        "    \"\"\"Main function of the script.\"\"\"\n",
        "\n",
        "    # input and output arguments\n",
        "    parser = argparse.ArgumentParser()\n",
        "    parser.add_argument(\"--train_data\", type=str, help=\"path to train data\")\n",
        "    parser.add_argument(\"--test_data\", type=str, help=\"path to test data\")\n",
        "    parser.add_argument(\"--n_estimators\", required=False, default=100, type=int)\n",
        "    parser.add_argument(\"--learning_rate\", required=False, default=0.1, type=float)\n",
        "    parser.add_argument(\"--registered_model_name\", type=str, help=\"model name\")\n",
        "    parser.add_argument(\"--model\", type=str, help=\"path to model file\")\n",
        "    args = parser.parse_args()\n",
        "\n",
        "    # paths are mounted as folder, therefore, we are selecting the file from folder\n",
        "    train_df = pd.read_csv(select_first_file(args.train_data))\n",
        "\n",
        "    # Extracting the label column\n",
        "    y_train = train_df.pop(\"default payment next month\")\n",
        "\n",
        "    # convert the dataframe values to array\n",
        "    X_train = train_df.values\n",
        "\n",
        "    # paths are mounted as folder, therefore, we are selecting the file from folder\n",
        "    test_df = pd.read_csv(select_first_file(args.test_data))\n",
        "\n",
        "    # Extracting the label column\n",
        "    y_test = test_df.pop(\"default payment next month\")\n",
        "\n",
        "    # convert the dataframe values to array\n",
        "    X_test = test_df.values\n",
        "\n",
        "    print(f\"Training with data of shape {X_train.shape}\")\n",
        "\n",
        "    clf = GradientBoostingClassifier(\n",
        "        n_estimators=args.n_estimators, learning_rate=args.learning_rate\n",
        "    )\n",
        "    clf.fit(X_train, y_train)\n",
        "\n",
        "    y_pred = clf.predict(X_test)\n",
        "\n",
        "    print(classification_report(y_test, y_pred))\n",
        "\n",
        "    # Registering the model to the workspace\n",
        "    print(\"Registering the model via MLFlow\")\n",
        "    mlflow.sklearn.log_model(\n",
        "        sk_model=clf,\n",
        "        registered_model_name=args.registered_model_name,\n",
        "        artifact_path=args.registered_model_name,\n",
        "    )\n",
        "\n",
        "    # Saving the model to a file\n",
        "    mlflow.sklearn.save_model(\n",
        "        sk_model=clf,\n",
        "        path=os.path.join(args.model, \"trained_model\"),\n",
        "    )\n",
        "\n",
        "    # Stop Logging\n",
        "    mlflow.end_run()\n",
        "\n",
        "\n",
        "if __name__ == \"__main__\":\n",
        "    main()"
      ],
      "outputs": [
        {
          "output_type": "stream",
          "name": "stdout",
          "text": "Overwriting ./components/train/train.py\n"
        }
      ],
      "execution_count": 62,
      "metadata": {
        "attributes": {
          "classes": [
            "Python"
          ],
          "id": ""
        },
        "name": "train.py"
      }
    },
    {
      "cell_type": "markdown",
      "source": [
        "As you can see in this training script, once the model is trained, the model file is saved and registered to the workspace. Now you can use the registered model in inferencing endpoints.\n",
        "\n",
        "\n",
        "For the environment of this step, you'll use one of the built-in (curated) Azure ML environments. The tag `azureml`, tells the system to use look for the name in curated environments.\n",
        "\n",
        "First, create the *yaml* file describing the component:"
      ],
      "metadata": {}
    },
    {
      "cell_type": "code",
      "source": [
        "%%writefile {train_src_dir}/train.yml\n",
        "# <component>\n",
        "name: train_credit_defaults_model\n",
        "display_name: Train Credit Defaults Model\n",
        "# version: 1 # Not specifying a version will automatically update the version\n",
        "type: command\n",
        "inputs:\n",
        "  train_data: \n",
        "    type: uri_folder\n",
        "  test_data: \n",
        "    type: uri_folder\n",
        "  learning_rate:\n",
        "    type: number     \n",
        "  registered_model_name:\n",
        "    type: string\n",
        "outputs:\n",
        "  model:\n",
        "    type: uri_folder\n",
        "code: .\n",
        "environment:\n",
        "  # for this step, we'll use an AzureML curate environment\n",
        "  azureml:AzureML-sklearn-1.0-ubuntu20.04-py38-cpu:1\n",
        "command: >-\n",
        "  python train.py \n",
        "  --train_data ${{inputs.train_data}} \n",
        "  --test_data ${{inputs.test_data}} \n",
        "  --learning_rate ${{inputs.learning_rate}}\n",
        "  --registered_model_name ${{inputs.registered_model_name}} \n",
        "  --model ${{outputs.model}}\n",
        "# </component>\n"
      ],
      "outputs": [
        {
          "output_type": "stream",
          "name": "stdout",
          "text": "Overwriting ./components/train/train.yml\n"
        }
      ],
      "execution_count": 63,
      "metadata": {
        "attributes": {
          "classes": [
            "Python"
          ],
          "id": ""
        },
        "name": "train.yml"
      }
    },
    {
      "cell_type": "markdown",
      "source": [
        "Once the `yaml` file and the script are ready, you can create your component using `load_component()`. "
      ],
      "metadata": {}
    },
    {
      "cell_type": "code",
      "source": [
        "# importing the Component Package\n",
        "from azure.ai.ml import load_component\n",
        "\n",
        "# Loading the component from the yml file\n",
        "train_component = load_component(source=os.path.join(train_src_dir, \"train.yml\"))"
      ],
      "outputs": [],
      "execution_count": 64,
      "metadata": {
        "attributes": {
          "classes": [
            "Python"
          ],
          "id": ""
        },
        "name": "train_component",
        "gather": {
          "logged": 1682526108856
        }
      }
    },
    {
      "cell_type": "markdown",
      "source": [
        "Now create and register the component:"
      ],
      "metadata": {}
    },
    {
      "cell_type": "code",
      "source": [
        "# Now we register the component to the workspace\n",
        "train_component = ml_client.create_or_update(train_component)\n",
        "\n",
        "# Create (register) the component in your workspace\n",
        "print(\n",
        "    f\"Component {train_component.name} with Version {train_component.version} is registered\"\n",
        ")"
      ],
      "outputs": [
        {
          "output_type": "stream",
          "name": "stdout",
          "text": "Component train_credit_defaults_model with Version 2023-04-26-16-21-50-8728890 is registered\n"
        }
      ],
      "execution_count": 65,
      "metadata": {
        "attributes": {
          "classes": [
            "Python"
          ],
          "id": ""
        },
        "name": "update-train_component",
        "gather": {
          "logged": 1682526112823
        }
      }
    },
    {
      "cell_type": "markdown",
      "source": [
        "## Create the pipeline from components\n",
        "\n",
        "Now that both your components are defined and registered, you can start implementing the pipeline."
      ],
      "metadata": {}
    },
    {
      "cell_type": "markdown",
      "source": [
        "Here, you'll use *input data*, *split ratio* and *registered model name* as input variables. Then call the components and connect them via their inputs /outputs identifiers. The outputs of each step can be accessed via the `.outputs` property."
      ],
      "metadata": {}
    },
    {
      "cell_type": "markdown",
      "source": [
        "The python functions returned by `load_component()` work as any regular python function that we'll use within a pipeline to call each step.\n",
        "\n",
        "To code the pipeline, we use a specific `@dsl.pipeline` decorator that identifies the Azure ML pipelines. In the decorator, we can specify the pipeline description and default resources like compute and storage. Like a python function, pipelines can have inputs, you can then create multiple instances of a single pipeline with different inputs.\n",
        "\n",
        "Here, we used *input data*, *split ratio* and *registered model name* as input variables. We then call the components and connect them via their inputs /outputs identifiers. The outputs of each step can be accessed via the `.outputs` property."
      ],
      "metadata": {
        "attributes": {
          "classes": [
            "Python"
          ],
          "id": ""
        }
      }
    },
    {
      "cell_type": "code",
      "source": [
        "# the dsl decorator tells the sdk that we are defining an Azure ML pipeline\n",
        "from azure.ai.ml import dsl, Input, Output\n",
        "\n",
        "\n",
        "@dsl.pipeline(\n",
        "    compute=cpu_compute_target,\n",
        "    description=\"E2E data_perp-train pipeline\",\n",
        ")\n",
        "def credit_defaults_pipeline(\n",
        "    pipeline_job_data_input,\n",
        "    pipeline_job_test_train_ratio,\n",
        "    pipeline_job_learning_rate,\n",
        "    pipeline_job_registered_model_name,\n",
        "):\n",
        "    # using data_prep_function like a python call with its own inputs\n",
        "    data_prep_job = data_prep_component(\n",
        "        data=pipeline_job_data_input,\n",
        "        test_train_ratio=pipeline_job_test_train_ratio,\n",
        "    )\n",
        "\n",
        "    # using train_func like a python call with its own inputs\n",
        "    train_job = train_component(\n",
        "        train_data=data_prep_job.outputs.train_data,  # note: using outputs from previous step\n",
        "        test_data=data_prep_job.outputs.test_data,  # note: using outputs from previous step\n",
        "        learning_rate=pipeline_job_learning_rate,  # note: using a pipeline input as parameter\n",
        "        registered_model_name=pipeline_job_registered_model_name,\n",
        "    )\n",
        "\n",
        "    # a pipeline returns a dictionary of outputs\n",
        "    # keys will code for the pipeline output identifier\n",
        "    return {\n",
        "        \"pipeline_job_train_data\": data_prep_job.outputs.train_data,\n",
        "        \"pipeline_job_test_data\": data_prep_job.outputs.test_data,\n",
        "    }"
      ],
      "outputs": [],
      "execution_count": 66,
      "metadata": {
        "attributes": {
          "classes": [
            "Python"
          ],
          "id": ""
        },
        "name": "pipeline",
        "gather": {
          "logged": 1682526116353
        }
      }
    },
    {
      "cell_type": "markdown",
      "source": [
        "Now use your pipeline definition to instantiate a pipeline with your dataset, split rate of choice and the name you picked for your model."
      ],
      "metadata": {}
    },
    {
      "cell_type": "code",
      "source": [
        "registered_model_name = \"credit_defaults_model\"\n",
        "\n",
        "# Let's instantiate the pipeline with the parameters of our choice\n",
        "pipeline = credit_defaults_pipeline(\n",
        "    pipeline_job_data_input=Input(type=\"uri_file\", path=credit_data.path),\n",
        "    pipeline_job_test_train_ratio=0.25,\n",
        "    pipeline_job_learning_rate=0.05,\n",
        "    pipeline_job_registered_model_name=registered_model_name,\n",
        ")"
      ],
      "outputs": [],
      "execution_count": 67,
      "metadata": {
        "attributes": {
          "classes": [
            "Python"
          ],
          "id": ""
        },
        "name": "registered_model_name",
        "gather": {
          "logged": 1682526121174
        }
      }
    },
    {
      "cell_type": "markdown",
      "source": [
        "## Submit the job \n",
        "\n",
        "It's now time to submit the job to run in Azure ML. This time you'll use `create_or_update`  on `ml_client.jobs`.\n",
        "\n",
        "Here you'll also pass an experiment name. An experiment is a container for all the iterations one does on a certain project. All the jobs submitted under the same experiment name would be listed next to each other in Azure ML studio.\n",
        "\n",
        "Once completed, the pipeline will register a model in your workspace as a result of training."
      ],
      "metadata": {}
    },
    {
      "cell_type": "code",
      "source": [
        "import webbrowser\n",
        "\n",
        "# submit the pipeline job\n",
        "pipeline_job = ml_client.jobs.create_or_update(\n",
        "    pipeline,\n",
        "    # Project's name\n",
        "    experiment_name=\"e2e_registered_components\",\n",
        ")\n",
        "# open the pipeline in web browser\n",
        "webbrowser.open(pipeline_job.studio_url)"
      ],
      "outputs": [
        {
          "output_type": "execute_result",
          "execution_count": 68,
          "data": {
            "text/plain": "False"
          },
          "metadata": {}
        }
      ],
      "execution_count": 68,
      "metadata": {
        "name": "returned_job",
        "gather": {
          "logged": 1682526129025
        }
      }
    },
    {
      "cell_type": "markdown",
      "source": [
        "You can track the progress of your pipeline, by using the link generated in the cell above or in this notebook using the following code:\n",
        "```python\n",
        "    ml_client.jobs.stream(pipeline_job.name)\n",
        "```\n",
        "\n",
        "When you select on each component, you'll see more information about the results of that component. \n",
        "There are two important parts to look for at this stage:\n",
        "* `Outputs+logs` > `user_logs` > `std_log.txt`\n",
        "This section shows the script run sdtout."
      ],
      "metadata": {}
    },
    {
      "cell_type": "markdown",
      "source": [
        "* `Outputs+logs` > `Metric`\n",
        "This section shows different logged metrics. In this example. mlflow `autologging`, has automatically logged the training metrics."
      ],
      "metadata": {}
    },
    {
      "cell_type": "markdown",
      "source": [
        "# Create local endpoint and deployment\r\n",
        "\r\n",
        "## Create local endpoint\r\n",
        "\r\n",
        "The goal of a local endpoint deployment is to validate and debug your code and configuration before you deploy to Azure. Local deployment has the following limitations:\r\n",
        "* Local endpoints *do not support* traffic rules, authentication, or probe settings.\r\n",
        "* Local endpoints support only one deployment per endpoint"
      ],
      "metadata": {
        "nteract": {
          "transient": {
            "deleting": false
          }
        }
      }
    },
    {
      "cell_type": "code",
      "source": [
        "from azure.ai.ml.entities import (\r\n",
        "    KubernetesOnlineEndpoint,\r\n",
        "    KubernetesOnlineDeployment,\r\n",
        "    ManagedOnlineEndpoint,\r\n",
        "    ManagedOnlineDeployment,\r\n",
        "    Model,\r\n",
        "    Environment,\r\n",
        "    CodeConfiguration,\r\n",
        ")\r\n",
        "\r\n",
        "from azure.ai.ml.entities._deployment.resource_requirements_settings import (\r\n",
        "    ResourceRequirementsSettings,\r\n",
        ")\r\n",
        "from azure.ai.ml.entities._deployment.container_resource_settings import (\r\n",
        "    ResourceSettings,\r\n",
        ")\r\n",
        "\r\n",
        "# Creating a local endpoint\r\n",
        "import datetime\r\n",
        "\r\n",
        "local_endpoint_name = \"local-\" + datetime.datetime.now().strftime(\"%m%d%H%M%f\")\r\n",
        "\r\n",
        "# create an online endpoint\r\n",
        "endpoint = KubernetesOnlineEndpoint(\r\n",
        "    name=local_endpoint_name, description=\"this is a sample local endpoint\"\r\n",
        ")"
      ],
      "outputs": [],
      "execution_count": 69,
      "metadata": {
        "jupyter": {
          "source_hidden": false,
          "outputs_hidden": false
        },
        "nteract": {
          "transient": {
            "deleting": false
          }
        },
        "gather": {
          "logged": 1682526263507
        }
      }
    },
    {
      "cell_type": "code",
      "source": [
        "# Install docker package in the current Jupyter kernel\r\n",
        "import sys\r\n",
        "\r\n",
        "!{sys.executable} -m pip install docker"
      ],
      "outputs": [
        {
          "output_type": "stream",
          "name": "stdout",
          "text": "Requirement already satisfied: docker in /anaconda/envs/azureml_py310_sdkv2/lib/python3.10/site-packages (6.0.1)\r\nRequirement already satisfied: urllib3>=1.26.0 in /anaconda/envs/azureml_py310_sdkv2/lib/python3.10/site-packages (from docker) (1.26.15)\r\nRequirement already satisfied: websocket-client>=0.32.0 in /anaconda/envs/azureml_py310_sdkv2/lib/python3.10/site-packages (from docker) (1.5.1)\r\nRequirement already satisfied: packaging>=14.0 in /anaconda/envs/azureml_py310_sdkv2/lib/python3.10/site-packages (from docker) (21.3)\r\nRequirement already satisfied: requests>=2.26.0 in /anaconda/envs/azureml_py310_sdkv2/lib/python3.10/site-packages (from docker) (2.28.2)\r\nRequirement already satisfied: pyparsing!=3.0.5,>=2.0.2 in /anaconda/envs/azureml_py310_sdkv2/lib/python3.10/site-packages (from packaging>=14.0->docker) (3.0.9)\r\nRequirement already satisfied: certifi>=2017.4.17 in /anaconda/envs/azureml_py310_sdkv2/lib/python3.10/site-packages (from requests>=2.26.0->docker) (2022.12.7)\r\nRequirement already satisfied: idna<4,>=2.5 in /anaconda/envs/azureml_py310_sdkv2/lib/python3.10/site-packages (from requests>=2.26.0->docker) (3.4)\r\nRequirement already satisfied: charset-normalizer<4,>=2 in /anaconda/envs/azureml_py310_sdkv2/lib/python3.10/site-packages (from requests>=2.26.0->docker) (3.1.0)\r\n"
        }
      ],
      "execution_count": 70,
      "metadata": {
        "jupyter": {
          "source_hidden": false,
          "outputs_hidden": false
        },
        "nteract": {
          "transient": {
            "deleting": false
          }
        },
        "gather": {
          "logged": 1682526267766
        }
      }
    },
    {
      "cell_type": "code",
      "source": [
        "ml_client.online_endpoints.begin_create_or_update(endpoint, local=True)"
      ],
      "outputs": [
        {
          "output_type": "stream",
          "name": "stderr",
          "text": "Creating local endpoint (local-04261624142780) Done (0m 0s)\n"
        },
        {
          "output_type": "execute_result",
          "execution_count": 71,
          "data": {
            "text/plain": "ManagedOnlineEndpoint({'public_network_access': None, 'provisioning_state': None, 'scoring_uri': None, 'openapi_uri': None, 'name': 'local-04261624142780', 'description': 'this is a sample local endpoint', 'tags': {}, 'properties': {}, 'print_as_yaml': True, 'id': None, 'Resource__source_path': None, 'base_path': PosixPath('/home/azureuser/.azureml/inferencing/local-04261624142780'), 'creation_context': None, 'serialize': <msrest.serialization.Serializer object at 0x7fcb6e502b30>, 'auth_mode': 'key', 'location': None, 'identity': None, 'traffic': {}, 'mirror_traffic': {}, 'kind': None})"
          },
          "metadata": {}
        }
      ],
      "execution_count": 71,
      "metadata": {
        "jupyter": {
          "source_hidden": false,
          "outputs_hidden": false
        },
        "nteract": {
          "transient": {
            "deleting": false
          }
        },
        "gather": {
          "logged": 1682526288506
        }
      }
    },
    {
      "cell_type": "markdown",
      "source": [
        "## Create local deployment\r\n",
        "\r\n",
        "The example contains all the files needed to deploy a model on an online endpoint. To deploy a model, you must have:\r\n",
        "\r\n",
        "* Model files (or the name and version of a model that's already registered in your workspace). In the example, we have a scikit-learn model that does regression.\r\n",
        "* The code that's required to score the model. In this case, we have a score.py file.\r\n",
        "* An environment in which your model runs. As you'll see, the environment might be a Docker image with Conda dependencies, or it might be a Dockerfile.\r\n",
        "* Settings to specify the instance type and scaling capacity.\r\n",
        "\r\n",
        "### Key aspects of deployment \r\n",
        "\r\n",
        "- `name` - Name of the deployment.\r\n",
        "- `endpoint_name` - Name of the endpoint to create the deployment under.\r\n",
        "- `model` - The model to use for the deployment. This value can be either a reference to an existing versioned model in the workspace or an inline model specification.\r\n",
        "- `environment` - The environment to use for the deployment. This value can be either a reference to an existing versioned environment in the workspace or an inline environment specification.\r\n",
        "- `code_configuration` - the configuration for the source code and scoring script\r\n",
        "    - `path`- Path to the source code directory for scoring the model\r\n",
        "    - `scoring_script` - Relative path to the scoring file in the source code directory\r\n",
        "- `instance_type` - The VM size to use for the deployment.\r\n",
        "- `instance_count` - The number of instances to use for the deployment\r\n",
        "- `resources` - The resource ask for the deployment with requests and limits.\r\n",
        "    - `requests` - The minimum resource ask for one deployment instance to be scheduled. For all deployment, requests for CPU and Memory should always be given.\r\n",
        "    - `limits` - (Optional) The maximum resource that one deployment instance can use. When values in limits missing, it will take the settings in instance type. For GPU workloads, limits for CPU and Memory should also be given. If specifying GPU for your deployment, it should be in field limits, or both requests and limits with the same value."
      ],
      "metadata": {
        "nteract": {
          "transient": {
            "deleting": false
          }
        }
      }
    },
    {
      "cell_type": "markdown",
      "source": [
        "## Gather the artifacts for model deployment \r\n",
        "        - Model\r\n",
        "        - Environment\r\n",
        "        - Score script"
      ],
      "metadata": {
        "nteract": {
          "transient": {
            "deleting": false
          }
        }
      }
    },
    {
      "cell_type": "code",
      "source": [
        "# Local deployment only supports local artifacts, therefore let's download the latest version of the model\r\n",
        "from azure.ai.ml.operations import ModelOperations\r\n",
        "\r\n",
        "latest_model_version = max(\r\n",
        "    [int(m.version) for m in ml_client.models.list(name=registered_model_name)]\r\n",
        ")\r\n",
        "\r\n",
        "# picking the model to deploy. Here we use the latest version of our registered model\r\n",
        "model = ml_client.models.get(name=registered_model_name, version=latest_model_version)\r\n",
        "\r\n",
        "ml_client.models.download(name=registered_model_name, version=latest_model_version, download_path='./')\r\n"
      ],
      "outputs": [
        {
          "output_type": "stream",
          "name": "stderr",
          "text": "Downloading the model ExperimentRun/dcid.b39c70d4-fc3f-4d8f-b69b-a7e588ccf892/credit_defaults_model at .//credit_defaults_model/credit_defaults_model\n\n"
        }
      ],
      "execution_count": 78,
      "metadata": {
        "jupyter": {
          "source_hidden": false,
          "outputs_hidden": false
        },
        "nteract": {
          "transient": {
            "deleting": false
          }
        },
        "gather": {
          "logged": 1682526713962
        }
      }
    },
    {
      "cell_type": "code",
      "source": [
        "from azure.ai.ml.operations import ModelOperations\r\n",
        "\r\n",
        "ml_client.models.download(name=registered_model_name, version=latest_model_version, download_path='./')"
      ],
      "outputs": [
        {
          "output_type": "stream",
          "name": "stderr",
          "text": "Downloading the model ExperimentRun/dcid.b39c70d4-fc3f-4d8f-b69b-a7e588ccf892/credit_defaults_model at .//credit_defaults_model/credit_defaults_model\n\n"
        }
      ],
      "execution_count": 73,
      "metadata": {
        "jupyter": {
          "source_hidden": false,
          "outputs_hidden": false
        },
        "nteract": {
          "transient": {
            "deleting": false
          }
        },
        "gather": {
          "logged": 1682526497879
        }
      }
    },
    {
      "cell_type": "code",
      "source": [
        "%%writefile {registered_model_name}/score.py\r\n",
        "\r\n",
        "import os\r\n",
        "import logging\r\n",
        "import json\r\n",
        "import numpy\r\n",
        "import joblib\r\n",
        "\r\n",
        "\r\n",
        "def init():\r\n",
        "    \"\"\"\r\n",
        "    This function is called when the container is initialized/started, typically after create/update of the deployment.\r\n",
        "    You can write the logic here to perform init operations like caching the model in memory\r\n",
        "    \"\"\"\r\n",
        "    global model\r\n",
        "    # AZUREML_MODEL_DIR is an environment variable created during deployment.\r\n",
        "    # It is the path to the model folder (./azureml-models/$MODEL_NAME/$VERSION)\r\n",
        "    model_path = os.path.join(\r\n",
        "        os.getenv(\"AZUREML_MODEL_DIR\"), \"model.pkl\"\r\n",
        "    )\r\n",
        "    # deserialize the model file back into a sklearn model\r\n",
        "    model = joblib.load(model_path)\r\n",
        "    logging.info(\"Init complete\")\r\n",
        "\r\n",
        "\r\n",
        "def run(raw_data):\r\n",
        "    \"\"\"\r\n",
        "    This function is called for every invocation of the endpoint to perform the actual scoring/prediction.\r\n",
        "    In the example we extract the data from the json input and call the scikit-learn model's predict()\r\n",
        "    method and return the result back\r\n",
        "    \"\"\"\r\n",
        "    logging.info(\"Request received\")\r\n",
        "    data = json.loads(raw_data)[\"data\"]\r\n",
        "    data = numpy.array(data)\r\n",
        "    result = model.predict(data)\r\n",
        "    logging.info(\"Request processed\")\r\n",
        "    return result.tolist()"
      ],
      "outputs": [
        {
          "output_type": "stream",
          "name": "stdout",
          "text": "Writing credit_defaults_model/score.py\n"
        }
      ],
      "execution_count": 74,
      "metadata": {
        "jupyter": {
          "source_hidden": false,
          "outputs_hidden": false
        },
        "nteract": {
          "transient": {
            "deleting": false
          }
        }
      }
    },
    {
      "cell_type": "code",
      "source": [
        "%%writefile {registered_model_name}/conda.yaml\r\n",
        "channels:\r\n",
        "- conda-forge\r\n",
        "dependencies:\r\n",
        "- python=3.8.5\r\n",
        "- pip\r\n",
        "- pip:\r\n",
        "  - mlflow\r\n",
        "  - cloudpickle==1.6.0\r\n",
        "  - psutil==5.8.0\r\n",
        "  - scikit-learn==1.0.1\r\n",
        "  - azureml-inference-server-http\r\n",
        "name: mlflow-env\r\n"
      ],
      "outputs": [
        {
          "output_type": "stream",
          "name": "stdout",
          "text": "Writing credit_defaults_model/conda.yaml\n"
        }
      ],
      "execution_count": 75,
      "metadata": {
        "jupyter": {
          "source_hidden": false,
          "outputs_hidden": false
        },
        "nteract": {
          "transient": {
            "deleting": false
          }
        }
      }
    },
    {
      "cell_type": "markdown",
      "source": [
        "## Create local deployment"
      ],
      "metadata": {
        "nteract": {
          "transient": {
            "deleting": false
          }
        }
      }
    },
    {
      "cell_type": "code",
      "source": [
        "model = Model(path=\"./{model_dir}/{model_dir}/model.pkl\".format(model_dir=registered_model_name))\r\n",
        "env = Environment(\r\n",
        "    conda_file=\"./{model_dir}/conda.yaml\".format(model_dir=registered_model_name),\r\n",
        "    image=\"mcr.microsoft.com/azureml/minimal-ubuntu18.04-py37-cpu-inference:latest\",\r\n",
        ")\r\n",
        "\r\n",
        "blue_deployment = KubernetesOnlineDeployment(\r\n",
        "    name=\"blue\",\r\n",
        "    endpoint_name=local_endpoint_name,\r\n",
        "    model=model,\r\n",
        "    environment=env,\r\n",
        "    code_configuration=CodeConfiguration(\r\n",
        "        code=\"./{model_dir}/\".format(model_dir=registered_model_name), scoring_script=\"score.py\"\r\n",
        "    ),\r\n",
        "    instance_count=1,\r\n",
        "    resources=ResourceRequirementsSettings(\r\n",
        "        requests=ResourceSettings(\r\n",
        "            cpu=\"100m\",\r\n",
        "            memory=\"0.5Gi\",\r\n",
        "        ),\r\n",
        "    ),\r\n",
        ")"
      ],
      "outputs": [],
      "execution_count": 85,
      "metadata": {
        "jupyter": {
          "source_hidden": false,
          "outputs_hidden": false
        },
        "nteract": {
          "transient": {
            "deleting": false
          }
        },
        "gather": {
          "logged": 1682527202142
        }
      }
    },
    {
      "cell_type": "code",
      "source": [
        "ml_client.online_deployments.begin_create_or_update(\r\n",
        "    deployment=blue_deployment, local=True\r\n",
        ")"
      ],
      "outputs": [
        {
          "output_type": "stream",
          "name": "stderr",
          "text": "Updating local deployment (local-04261624142780 / blue) \nBuilding Docker image from Dockerfile.\nStep 1/6 : FROM mcr.microsoft.com/azureml/minimal-ubuntu18.04-py37-cpu-inference:latest\n ---> a0c1ac3e0de3\nStep 2/6 : RUN mkdir -p /var/azureml-app/\n ---> Using cache\n ---> 716d7ccd33c6\nStep 3/6 : WORKDIR /var/azureml-app/\n ---> Using cache\n ---> a67a9f88fcee\nStep 4/6 : COPY conda.yml /var/azureml-app/\n ---> Using cache\n ---> 7378a1982bad\nStep 5/6 : RUN conda env create -n inf-conda-env --file conda.yml\n ---> Using cache\n ---> 7ac24824c6b9\nStep 6/6 : CMD [\"conda\", \"run\", \"--no-capture-output\", \"-n\", \"inf-conda-env\", \"runsvdir\", \"/var/runit\"]\n ---> Using cache\n ---> e7ed7ca472e9\nSuccessfully built e7ed7ca472e9\nSuccessfully tagged local-04261624142780:blue\n\nStarting up endpoint.....Done (0m 30s)\n"
        },
        {
          "output_type": "execute_result",
          "execution_count": 86,
          "data": {
            "text/plain": "KubernetesOnlineDeployment({'provisioning_state': 'Succeeded', 'data_collector': None, 'endpoint_name': 'local-04261624142780', 'type': 'Kubernetes', 'name': 'blue', 'description': None, 'tags': {}, 'properties': {}, 'print_as_yaml': True, 'id': None, 'Resource__source_path': None, 'base_path': PosixPath('/mnt/batch/tasks/shared/LS_root/mounts/clusters/yuenchenn4/code/Users/yuenche/azureml-examples/tutorials/e2e-ds-experience'), 'creation_context': None, 'serialize': <msrest.serialization.Serializer object at 0x7fcb80433790>, 'model': Model({'job_name': None, 'is_anonymous': False, 'auto_increment_version': False, 'name': 'ee09d7c6952658978914343e8c85d34f', 'description': None, 'tags': {}, 'properties': {}, 'print_as_yaml': True, 'id': None, 'Resource__source_path': None, 'base_path': PosixPath('/mnt/batch/tasks/shared/LS_root/mounts/clusters/yuenchenn4/code/Users/yuenche/azureml-examples/tutorials/e2e-ds-experience'), 'creation_context': None, 'serialize': <msrest.serialization.Serializer object at 0x7fcb80430550>, 'version': '1', 'latest_version': None, 'path': '/mnt/batch/tasks/shared/LS_root/mounts/clusters/yuenchenn4/code/Users/yuenche/azureml-examples/tutorials/e2e-ds-experience/credit_defaults_model/credit_defaults_model/model.pkl', 'datastore': None, 'utc_time_created': None, 'flavors': None, 'arm_type': 'model_version', 'type': 'custom_model'}), 'code_configuration': {'code': './credit_defaults_model/'}, 'environment': Environment({'is_anonymous': False, 'auto_increment_version': False, 'name': 'CliV2AnonymousEnvironment', 'description': None, 'tags': {}, 'properties': {}, 'print_as_yaml': True, 'id': None, 'Resource__source_path': None, 'base_path': PosixPath('/mnt/batch/tasks/shared/LS_root/mounts/clusters/yuenchenn4/code/Users/yuenche/azureml-examples/tutorials/e2e-ds-experience'), 'creation_context': None, 'serialize': <msrest.serialization.Serializer object at 0x7fcb805e4040>, 'version': 'e6c61f260f60b3d280fbab2a8902a3e8', 'latest_version': None, 'conda_file': {'channels': ['conda-forge'], 'dependencies': ['python=3.8.5', 'pip', {'pip': ['mlflow', 'cloudpickle==1.6.0', 'psutil==5.8.0', 'scikit-learn==1.0.1', 'azureml-inference-server-http']}], 'name': 'mlflow-env'}, 'image': 'mcr.microsoft.com/azureml/minimal-ubuntu18.04-py37-cpu-inference:latest', 'build': None, 'inference_config': None, 'os_type': None, 'arm_type': 'environment_version', 'conda_file_path': None, 'path': None, 'datastore': None, 'upload_hash': None, 'translated_conda_file': 'channels:\\n- conda-forge\\ndependencies:\\n- python=3.8.5\\n- pip\\n- pip:\\n  - mlflow\\n  - cloudpickle==1.6.0\\n  - psutil==5.8.0\\n  - scikit-learn==1.0.1\\n  - azureml-inference-server-http\\nname: mlflow-env\\n'}), 'environment_variables': {}, 'app_insights_enabled': False, 'scale_settings': None, 'request_settings': None, 'liveness_probe': None, 'readiness_probe': None, 'instance_count': 1, 'arm_type': 'online_deployment', 'model_mount_path': None, 'instance_type': 'local', 'resources': <azure.ai.ml.entities._deployment.resource_requirements_settings.ResourceRequirementsSettings object at 0x7fcb6dae7730>})"
          },
          "metadata": {}
        }
      ],
      "execution_count": 86,
      "metadata": {
        "jupyter": {
          "source_hidden": false,
          "outputs_hidden": false
        },
        "nteract": {
          "transient": {
            "deleting": false
          }
        },
        "gather": {
          "logged": 1682527235114
        }
      }
    },
    {
      "cell_type": "markdown",
      "source": [
        "# Verify the local deployment succeeded\r\n",
        "\r\n",
        "## Check the status to see whether the model was deployed without error"
      ],
      "metadata": {
        "nteract": {
          "transient": {
            "deleting": false
          }
        }
      }
    },
    {
      "cell_type": "code",
      "source": [
        "ml_client.online_endpoints.get(name=local_endpoint_name, local=True)"
      ],
      "outputs": [
        {
          "output_type": "execute_result",
          "execution_count": 87,
          "data": {
            "text/plain": "ManagedOnlineEndpoint({'public_network_access': None, 'provisioning_state': 'Succeeded', 'scoring_uri': 'http://localhost:32789/score', 'openapi_uri': None, 'name': 'local-04261624142780', 'description': 'this is a sample local endpoint', 'tags': {}, 'properties': {}, 'print_as_yaml': True, 'id': None, 'Resource__source_path': None, 'base_path': PosixPath('/mnt/batch/tasks/shared/LS_root/mounts/clusters/yuenchenn4/code/Users/yuenche/azureml-examples/tutorials/e2e-ds-experience'), 'creation_context': None, 'serialize': <msrest.serialization.Serializer object at 0x7fcb80558250>, 'auth_mode': 'key', 'location': 'local', 'identity': None, 'traffic': {}, 'mirror_traffic': {}, 'kind': None})"
          },
          "metadata": {}
        }
      ],
      "execution_count": 87,
      "metadata": {
        "jupyter": {
          "source_hidden": false,
          "outputs_hidden": false
        },
        "nteract": {
          "transient": {
            "deleting": false
          }
        },
        "gather": {
          "logged": 1682529034985
        }
      }
    },
    {
      "cell_type": "markdown",
      "source": [
        "## Get logs"
      ],
      "metadata": {
        "nteract": {
          "transient": {
            "deleting": false
          }
        }
      }
    },
    {
      "cell_type": "code",
      "source": [
        "ml_client.online_deployments.get_logs(\r\n",
        "    name=\"blue\", endpoint_name=local_endpoint_name, local=True, lines=100\r\n",
        ")"
      ],
      "outputs": [
        {
          "output_type": "execute_result",
          "execution_count": 88,
          "data": {
            "text/plain": "'numpy==1.24.3\\r\\noauthlib==3.2.2\\r\\nopencensus==0.11.2\\r\\nopencensus-context==0.1.3\\r\\nopencensus-ext-azure==1.1.9\\r\\npackaging==23.1\\r\\npandas==2.0.1\\r\\nPillow==9.5.0\\r\\nportalocker==2.7.0\\r\\nprotobuf==4.22.3\\r\\npsutil==5.8.0\\r\\npyarrow==11.0.0\\r\\npyasn1==0.5.0\\r\\npyasn1-modules==0.3.0\\r\\npycparser==2.21\\r\\npydantic==1.10.7\\r\\nPyJWT==2.6.0\\r\\npyparsing==3.0.9\\r\\npython-dateutil==2.8.2\\r\\npytz==2023.3\\r\\nPyYAML==6.0\\r\\nquerystring-parser==1.2.4\\r\\nrequests==2.28.2\\r\\nrsa==4.9\\r\\nscikit-learn==1.0.1\\r\\nscipy==1.10.1\\r\\nsix==1.16.0\\r\\nsmmap==5.0.0\\r\\nSQLAlchemy==2.0.10\\r\\nsqlparse==0.4.4\\r\\ntabulate==0.9.0\\r\\nthreadpoolctl==3.1.0\\r\\ntyping_extensions==4.5.0\\r\\ntzdata==2023.3\\r\\nurllib3==1.26.15\\r\\nwebsocket-client==1.5.1\\r\\nWerkzeug==2.3.0\\r\\nwrapt==1.12.1\\r\\nzipp==3.15.0\\r\\n\\r\\n2023-04-26T16:40:18,564077133+00:00 | gunicorn/run | \\r\\n2023-04-26T16:40:18,565584455+00:00 | gunicorn/run | Entry script directory: /var/azureml-app/credit_defaults_model//.\\r\\n2023-04-26T16:40:18,566998275+00:00 | gunicorn/run | \\r\\n2023-04-26T16:40:18,568402194+00:00 | gunicorn/run | ###############################################\\r\\n2023-04-26T16:40:18,570002517+00:00 | gunicorn/run | Dynamic Python Package Installation\\r\\n2023-04-26T16:40:18,571396737+00:00 | gunicorn/run | ###############################################\\r\\n2023-04-26T16:40:18,572815257+00:00 | gunicorn/run | \\r\\n2023-04-26T16:40:18,574333278+00:00 | gunicorn/run | Dynamic Python package installation is disabled.\\r\\n2023-04-26T16:40:18,575817299+00:00 | gunicorn/run | \\r\\n2023-04-26T16:40:18,577239419+00:00 | gunicorn/run | ###############################################\\r\\n2023-04-26T16:40:18,578712640+00:00 | gunicorn/run | Checking if the Python package azureml-inference-server-http is installed\\r\\n2023-04-26T16:40:18,580163061+00:00 | gunicorn/run | ###############################################\\r\\n2023-04-26T16:40:18,581981886+00:00 | gunicorn/run | \\r\\n2023-04-26T16:40:19,471937852+00:00 | gunicorn/run | \\r\\n2023-04-26T16:40:19,473794678+00:00 | gunicorn/run | ###############################################\\r\\n2023-04-26T16:40:19,475466802+00:00 | gunicorn/run | AzureML Inference Server\\r\\n2023-04-26T16:40:19,476976823+00:00 | gunicorn/run | ###############################################\\r\\n2023-04-26T16:40:19,478557846+00:00 | gunicorn/run | \\r\\n2023-04-26T16:40:19,501592371+00:00 | gunicorn/run | Starting AzureML Inference Server HTTP.\\r\\n2023-04-26 16:40:19,692 I [22] azmlinfsrv - Loaded logging config from /opt/miniconda/envs/inf-conda-env/lib/python3.8/site-packages/azureml_inference_server_http/logging.json\\r\\n\\r\\nAzure ML Inferencing HTTP server v0.8.4\\r\\n\\r\\n\\r\\nServer Settings\\r\\n---------------\\r\\nEntry Script Name: /var/azureml-app/credit_defaults_model/score.py\\r\\nModel Directory: /var/azureml-app/azureml-models//ee09d7c6952658978914343e8c85d34f/1\\r\\nConfig File: None\\r\\nWorker Count: 1\\r\\nWorker Timeout (seconds): 300\\r\\nServer Port: 31311\\r\\nHealth Port: 31311\\r\\nApplication Insights Enabled: false\\r\\nApplication Insights Key: None\\r\\nInferencing HTTP server version: azmlinfsrv/0.8.4\\r\\nCORS for the specified origins: None\\r\\nCreate dedicated endpoint for health: None\\r\\n\\r\\n\\r\\nServer Routes\\r\\n---------------\\r\\nLiveness Probe: GET   127.0.0.1:31311/\\r\\nScore:          POST  127.0.0.1:31311/score\\r\\n\\r\\n2023-04-26 16:40:19,825 I [22] gunicorn.error - Starting gunicorn 20.1.0\\r\\n2023-04-26 16:40:19,826 I [22] gunicorn.error - Listening at: http://0.0.0.0:31311 (22)\\r\\n2023-04-26 16:40:19,826 I [22] gunicorn.error - Using worker: sync\\r\\n2023-04-26 16:40:19,829 I [82] gunicorn.error - Booting worker with pid: 82\\r\\n/opt/miniconda/envs/inf-conda-env/lib/python3.8/site-packages/azureml_inference_server_http/server/config.py:51: FutureWarning: aliases are no longer used by BaseSettings to define which environment variables to read. Instead use the \"env\" field setting. See https://pydantic-docs.helpmanual.io/usage/settings/#environment-variable-names\\r\\n  class AMLInferenceServerConfig(pydantic.BaseSettings):\\r\\n2023-04-26 16:40:20,217 I [82] azmlinfsrv - AML_FLASK_ONE_COMPATIBILITY is set. Patched Flask to ensure compatibility with Flask 1.\\r\\nInitializing logger\\r\\n2023-04-26 16:40:20,220 I [82] azmlinfsrv - Starting up app insights client\\r\\n2023-04-26 16:40:20,336 I [82] azmlinfsrv.user_script - Found user script at /var/azureml-app/credit_defaults_model/score.py\\r\\n2023-04-26 16:40:20,336 I [82] azmlinfsrv.user_script - run() is not decorated. Server will invoke it with the input in JSON string.\\r\\n2023-04-26 16:40:20,336 I [82] azmlinfsrv.user_script - Invoking user\\'s init function\\r\\n2023-04-26 16:40:20,751 I [82] azmlinfsrv.user_script - Users\\'s init has completed successfully\\r\\n2023-04-26 16:40:20,771 I [82] azmlinfsrv.swagger - Swaggers are prepared for the following versions: [2, 3, 3.1].\\r\\n2023-04-26 16:40:20,771 I [82] azmlinfsrv - Scoring timeout is set to 3600000\\r\\n'"
          },
          "metadata": {}
        }
      ],
      "execution_count": 88,
      "metadata": {
        "jupyter": {
          "source_hidden": false,
          "outputs_hidden": false
        },
        "nteract": {
          "transient": {
            "deleting": false
          }
        },
        "gather": {
          "logged": 1682529038168
        }
      }
    },
    {
      "cell_type": "markdown",
      "source": [
        "## Prepare test data"
      ],
      "metadata": {
        "nteract": {
          "transient": {
            "deleting": false
          }
        }
      }
    },
    {
      "cell_type": "code",
      "source": [
        "%%writefile {registered_model_name}/sample-request.json\r\n",
        "{\r\n",
        "   \"data\": [\r\n",
        "            [20000,2,2,1,24,2,2,-1,-1,-2,-2,3913,3102,689,0,0,0,0,689,0,0,0,0],\r\n",
        "            [10, 9, 8, 7, 6, 5, 4, 3, 2, 1, 10, 9, 8, 7, 6, 5, 4, 3, 2, 1, 10, 9, 8]\r\n",
        "        ]\r\n",
        "}"
      ],
      "outputs": [
        {
          "output_type": "stream",
          "name": "stdout",
          "text": "Overwriting credit_defaults_model/sample-request.json\n"
        }
      ],
      "execution_count": 89,
      "metadata": {
        "jupyter": {
          "source_hidden": false,
          "outputs_hidden": false
        },
        "nteract": {
          "transient": {
            "deleting": false
          }
        }
      }
    },
    {
      "cell_type": "markdown",
      "source": [
        "## Invoke the local endpoint\r\n",
        "Invoke the endpoint to score the model by using the convenience command invoke and passing query parameters that are stored in a JSON file"
      ],
      "metadata": {
        "nteract": {
          "transient": {
            "deleting": false
          }
        }
      }
    },
    {
      "cell_type": "code",
      "source": [
        "ml_client.online_endpoints.invoke(\r\n",
        "    endpoint_name=local_endpoint_name,\r\n",
        "    request_file=\"./{model_dir}/sample-request.json\".format(model_dir=registered_model_name),\r\n",
        "    local=True,\r\n",
        ")"
      ],
      "outputs": [
        {
          "output_type": "execute_result",
          "execution_count": 100,
          "data": {
            "text/plain": "'[1, 1]'"
          },
          "metadata": {}
        }
      ],
      "execution_count": 100,
      "metadata": {
        "jupyter": {
          "source_hidden": false,
          "outputs_hidden": false
        },
        "nteract": {
          "transient": {
            "deleting": false
          }
        },
        "gather": {
          "logged": 1682530139275
        }
      }
    },
    {
      "cell_type": "markdown",
      "source": [
        "# Deploy your online endpoint to Azure\r\n",
        "Next, deploy your online endpoint to Azure.\r\n",
        "\r\n",
        "## Configure online endpoint\r\n",
        "`endpoint_name`: The name of the endpoint.\r\n",
        "\r\n",
        "`auth_mode` : Use `key` for key-based authentication. Use `aml_token` for Azure Machine Learning token-based authentication. A `key` does not expire, but `aml_token` does expire. \r\n",
        "\r\n",
        "Optionally, you can add description, tags to your endpoint."
      ],
      "metadata": {
        "nteract": {
          "transient": {
            "deleting": false
          }
        }
      }
    },
    {
      "cell_type": "code",
      "source": [
        "# Creating a unique endpoint name with current datetime to avoid conflicts\r\n",
        "import datetime\r\n",
        "\r\n",
        "online_endpoint_name = \"k8s-endpoint-\" + datetime.datetime.now().strftime(\"%m%d%H%M%f\")\r\n",
        "\r\n",
        "# create an online endpoint\r\n",
        "endpoint = KubernetesOnlineEndpoint(\r\n",
        "    name=online_endpoint_name,\r\n",
        "    compute=\"aks-yuenchenn\",\r\n",
        "    description=\"this is a sample online endpoint\",\r\n",
        "    auth_mode=\"key\",\r\n",
        "    tags={\r\n",
        "        \"training_dataset\": \"credit_defaults\",\r\n",
        "        \"model_type\": \"sklearn.GradientBoostingClassifier\",\r\n",
        "    },\r\n",
        ")"
      ],
      "outputs": [],
      "execution_count": 91,
      "metadata": {
        "jupyter": {
          "source_hidden": false,
          "outputs_hidden": false
        },
        "nteract": {
          "transient": {
            "deleting": false
          }
        },
        "gather": {
          "logged": 1682529165071
        }
      }
    },
    {
      "cell_type": "markdown",
      "source": [
        "## Create the endpoint\r\n",
        "\r\n",
        "Using the `MLClient` created earlier, we will now create the Endpoint in the workspace. This command will start the endpoint creation and return a confirmation response while the endpoint creation continues."
      ],
      "metadata": {
        "nteract": {
          "transient": {
            "deleting": false
          }
        }
      }
    },
    {
      "cell_type": "code",
      "source": [
        "ml_client.begin_create_or_update(endpoint).result()"
      ],
      "outputs": [
        {
          "output_type": "execute_result",
          "execution_count": 92,
          "data": {
            "text/plain": "KubernetesOnlineEndpoint({'provisioning_state': 'Succeeded', 'scoring_uri': 'http://20.76.224.148/api/v1/endpoint/k8s-endpoint-04261712905175/score', 'openapi_uri': 'http://20.76.224.148/api/v1/endpoint/k8s-endpoint-04261712905175/swagger.json', 'name': 'k8s-endpoint-04261712905175', 'description': 'this is a sample online endpoint', 'tags': {'training_dataset': 'credit_defaults', 'model_type': 'sklearn.GradientBoostingClassifier'}, 'properties': {'azureml.onlineendpointid': '/subscriptions/191c696b-4f52-4038-9b9b-27cf6086fa00/resourcegroups/rg-yuenche-nn/providers/microsoft.machinelearningservices/workspaces/aml-yuenche-nn/onlineendpoints/k8s-endpoint-04261712905175', 'AzureAsyncOperationUri': 'https://management.azure.com/subscriptions/191c696b-4f52-4038-9b9b-27cf6086fa00/providers/Microsoft.MachineLearningServices/locations/westeurope/mfeOperationsStatus/oe:f926d6f5-4428-4a65-a2af-e90086e16d79:7a4f407a-7684-475a-8c3a-6d1229a063b3?api-version=2022-02-01-preview'}, 'print_as_yaml': True, 'id': '/subscriptions/191c696b-4f52-4038-9b9b-27cf6086fa00/resourceGroups/rg-yuenche-nn/providers/Microsoft.MachineLearningServices/workspaces/aml-yuenche-nn/onlineEndpoints/k8s-endpoint-04261712905175', 'Resource__source_path': None, 'base_path': '/mnt/batch/tasks/shared/LS_root/mounts/clusters/yuenchenn4/code/Users/yuenche/azureml-examples/tutorials/e2e-ds-experience', 'creation_context': None, 'serialize': <msrest.serialization.Serializer object at 0x7fcb816a4d00>, 'auth_mode': 'key', 'location': 'westeurope', 'identity': <azure.ai.ml.entities._credentials.IdentityConfiguration object at 0x7fcb805b77f0>, 'traffic': {}, 'mirror_traffic': {}, 'kind': 'K8S', 'compute': '/subscriptions/191c696b-4f52-4038-9b9b-27cf6086fa00/resourceGroups/rg-yuenche-nn/providers/Microsoft.MachineLearningServices/workspaces/aml-yuenche-nn/computes/aks-yuenchenn'})"
          },
          "metadata": {}
        }
      ],
      "execution_count": 92,
      "metadata": {
        "jupyter": {
          "source_hidden": false,
          "outputs_hidden": false
        },
        "nteract": {
          "transient": {
            "deleting": false
          }
        },
        "gather": {
          "logged": 1682529233472
        }
      }
    },
    {
      "cell_type": "code",
      "source": [
        "endpoint = ml_client.online_endpoints.get(name=online_endpoint_name)\r\n",
        "\r\n",
        "print(\r\n",
        "    f'Endpint \"{endpoint.name}\" with provisioning state \"{endpoint.provisioning_state}\" is retrieved'\r\n",
        ")"
      ],
      "outputs": [
        {
          "output_type": "stream",
          "name": "stdout",
          "text": "Endpint \"k8s-endpoint-04261712905175\" with provisioning state \"Succeeded\" is retrieved\n"
        }
      ],
      "execution_count": 94,
      "metadata": {
        "jupyter": {
          "source_hidden": false,
          "outputs_hidden": false
        },
        "nteract": {
          "transient": {
            "deleting": false
          }
        },
        "gather": {
          "logged": 1682529342837
        }
      }
    },
    {
      "cell_type": "markdown",
      "source": [
        "## Configure online deployment\r\n",
        "\r\n",
        "A deployment is a set of resources required for hosting the model that does the actual inferencing. We will create a deployment for our endpoint using the `KubernetesOnlineDeployment` class."
      ],
      "metadata": {
        "nteract": {
          "transient": {
            "deleting": false
          }
        }
      }
    },
    {
      "cell_type": "code",
      "source": [
        "model = Model(path=\"./{model_dir}/{model_dir}/model.pkl\".format(model_dir=registered_model_name))\r\n",
        "env = Environment(\r\n",
        "    conda_file=\"./{model_dir}/conda.yaml\".format(model_dir=registered_model_name),\r\n",
        "    image=\"mcr.microsoft.com/azureml/minimal-ubuntu18.04-py37-cpu-inference:latest\",\r\n",
        ")\r\n",
        "\r\n",
        "blue_deployment = KubernetesOnlineDeployment(\r\n",
        "    name=\"blue\",\r\n",
        "    endpoint_name=online_endpoint_name,\r\n",
        "    model=model,\r\n",
        "    environment=env,\r\n",
        "    code_configuration=CodeConfiguration(\r\n",
        "        code=\"./{model_dir}/\".format(model_dir=registered_model_name), scoring_script=\"score.py\"\r\n",
        "    ),\r\n",
        "    instance_count=1,\r\n",
        "    resources=ResourceRequirementsSettings(\r\n",
        "        requests=ResourceSettings(\r\n",
        "            cpu=\"100m\",\r\n",
        "            memory=\"0.5Gi\",\r\n",
        "        ),\r\n",
        "    ),\r\n",
        ")"
      ],
      "outputs": [],
      "execution_count": 99,
      "metadata": {
        "jupyter": {
          "source_hidden": false,
          "outputs_hidden": false
        },
        "nteract": {
          "transient": {
            "deleting": false
          }
        },
        "gather": {
          "logged": 1682530083488
        }
      }
    },
    {
      "cell_type": "markdown",
      "source": [
        "## Create the deployment\r\n",
        "\r\n",
        "Using the `MLClient` created earlier, we will now create the deployment in the workspace. This command will start the deployment creation and return a confirmation response while the deployment creation continues."
      ],
      "metadata": {
        "nteract": {
          "transient": {
            "deleting": false
          }
        }
      }
    },
    {
      "cell_type": "code",
      "source": [
        "ml_client.begin_create_or_update(blue_deployment).result()"
      ],
      "outputs": [
        {
          "output_type": "stream",
          "name": "stderr",
          "text": "Check: endpoint k8s-endpoint-04261712905175 exists\n\u001b[32mUploading credit_defaults_model (0.12 MBs): 100%|██████████| 124497/124497 [00:00<00:00, 2359423.92it/s]\n\u001b[39m\n\ndata_collector is not a known attribute of class <class 'azure.ai.ml._restclient.v2022_02_01_preview.models._models_py3.KubernetesOnlineDeployment'> and will be ignored\n"
        },
        {
          "output_type": "stream",
          "name": "stdout",
          "text": "..........................."
        },
        {
          "output_type": "execute_result",
          "execution_count": 96,
          "data": {
            "text/plain": "KubernetesOnlineDeployment({'provisioning_state': 'Succeeded', 'data_collector': None, 'endpoint_name': 'k8s-endpoint-04261712905175', 'type': 'Kubernetes', 'name': 'blue', 'description': None, 'tags': {}, 'properties': {'AzureAsyncOperationUri': 'https://management.azure.com/subscriptions/191c696b-4f52-4038-9b9b-27cf6086fa00/providers/Microsoft.MachineLearningServices/locations/westeurope/mfeOperationsStatus/od:f926d6f5-4428-4a65-a2af-e90086e16d79:4ae97ec7-2df6-45bc-b8bb-c9bc41549349?api-version=2022-02-01-preview'}, 'print_as_yaml': True, 'id': '/subscriptions/191c696b-4f52-4038-9b9b-27cf6086fa00/resourceGroups/rg-yuenche-nn/providers/Microsoft.MachineLearningServices/workspaces/aml-yuenche-nn/onlineEndpoints/k8s-endpoint-04261712905175/deployments/blue', 'Resource__source_path': None, 'base_path': '/mnt/batch/tasks/shared/LS_root/mounts/clusters/yuenchenn4/code/Users/yuenche/azureml-examples/tutorials/e2e-ds-experience', 'creation_context': None, 'serialize': <msrest.serialization.Serializer object at 0x7fcb6d91d960>, 'model': '/subscriptions/191c696b-4f52-4038-9b9b-27cf6086fa00/resourceGroups/rg-yuenche-nn/providers/Microsoft.MachineLearningServices/workspaces/aml-yuenche-nn/models/ee09d7c6952658978914343e8c85d34f/versions/1', 'code_configuration': {'code': '/subscriptions/191c696b-4f52-4038-9b9b-27cf6086fa00/resourceGroups/rg-yuenche-nn/providers/Microsoft.MachineLearningServices/workspaces/aml-yuenche-nn/codes/9a046b60-d5d0-4f1f-ad1d-b89156b05447/versions/1'}, 'environment': '/subscriptions/191c696b-4f52-4038-9b9b-27cf6086fa00/resourceGroups/rg-yuenche-nn/providers/Microsoft.MachineLearningServices/workspaces/aml-yuenche-nn/environments/CliV2AnonymousEnvironment/versions/e6c61f260f60b3d280fbab2a8902a3e8', 'environment_variables': {}, 'app_insights_enabled': False, 'scale_settings': <azure.ai.ml.entities._deployment.scale_settings.TargetUtilizationScaleSettings object at 0x7fcb6d91ebc0>, 'request_settings': <azure.ai.ml.entities._deployment.deployment_settings.OnlineRequestSettings object at 0x7fcb6d91e2c0>, 'liveness_probe': <azure.ai.ml.entities._deployment.deployment_settings.ProbeSettings object at 0x7fcb6d91e7d0>, 'readiness_probe': <azure.ai.ml.entities._deployment.deployment_settings.ProbeSettings object at 0x7fcb6d91ee30>, 'instance_count': None, 'arm_type': 'online_deployment', 'model_mount_path': None, 'instance_type': None, 'resources': <azure.ai.ml.entities._deployment.resource_requirements_settings.ResourceRequirementsSettings object at 0x7fcb6d91ddb0>})"
          },
          "metadata": {}
        }
      ],
      "execution_count": 96,
      "metadata": {
        "jupyter": {
          "source_hidden": false,
          "outputs_hidden": false
        },
        "nteract": {
          "transient": {
            "deleting": false
          }
        },
        "gather": {
          "logged": 1682529491852
        }
      }
    },
    {
      "cell_type": "code",
      "source": [
        "# blue deployment takes 100 traffic\r\n",
        "endpoint.traffic = {\"blue\": 100}\r\n",
        "ml_client.begin_create_or_update(endpoint).result()"
      ],
      "outputs": [
        {
          "output_type": "stream",
          "name": "stderr",
          "text": "Readonly attribute principal_id will be ignored in class <class 'azure.ai.ml._restclient.v2022_05_01.models._models_py3.ManagedServiceIdentity'>\nReadonly attribute tenant_id will be ignored in class <class 'azure.ai.ml._restclient.v2022_05_01.models._models_py3.ManagedServiceIdentity'>\n"
        },
        {
          "output_type": "execute_result",
          "execution_count": 97,
          "data": {
            "text/plain": "KubernetesOnlineEndpoint({'provisioning_state': 'Succeeded', 'scoring_uri': 'http://20.76.224.148/api/v1/endpoint/k8s-endpoint-04261712905175/score', 'openapi_uri': 'http://20.76.224.148/api/v1/endpoint/k8s-endpoint-04261712905175/swagger.json', 'name': 'k8s-endpoint-04261712905175', 'description': 'this is a sample online endpoint', 'tags': {'training_dataset': 'credit_defaults', 'model_type': 'sklearn.GradientBoostingClassifier'}, 'properties': {'azureml.onlineendpointid': '/subscriptions/191c696b-4f52-4038-9b9b-27cf6086fa00/resourcegroups/rg-yuenche-nn/providers/microsoft.machinelearningservices/workspaces/aml-yuenche-nn/onlineendpoints/k8s-endpoint-04261712905175', 'AzureAsyncOperationUri': 'https://management.azure.com/subscriptions/191c696b-4f52-4038-9b9b-27cf6086fa00/providers/Microsoft.MachineLearningServices/locations/westeurope/mfeOperationsStatus/oe:f926d6f5-4428-4a65-a2af-e90086e16d79:05f65fef-36c1-4ef7-a294-1d70da755b55?api-version=2022-02-01-preview'}, 'print_as_yaml': True, 'id': '/subscriptions/191c696b-4f52-4038-9b9b-27cf6086fa00/resourceGroups/rg-yuenche-nn/providers/Microsoft.MachineLearningServices/workspaces/aml-yuenche-nn/onlineEndpoints/k8s-endpoint-04261712905175', 'Resource__source_path': None, 'base_path': '/mnt/batch/tasks/shared/LS_root/mounts/clusters/yuenchenn4/code/Users/yuenche/azureml-examples/tutorials/e2e-ds-experience', 'creation_context': None, 'serialize': <msrest.serialization.Serializer object at 0x7fcb6d91e3e0>, 'auth_mode': 'key', 'location': 'westeurope', 'identity': <azure.ai.ml.entities._credentials.IdentityConfiguration object at 0x7fcb6d91cfd0>, 'traffic': {'blue': 100}, 'mirror_traffic': {}, 'kind': 'K8S', 'compute': '/subscriptions/191c696b-4f52-4038-9b9b-27cf6086fa00/resourceGroups/rg-yuenche-nn/providers/Microsoft.MachineLearningServices/workspaces/aml-yuenche-nn/computes/aks-yuenchenn'})"
          },
          "metadata": {}
        }
      ],
      "execution_count": 97,
      "metadata": {
        "jupyter": {
          "source_hidden": false,
          "outputs_hidden": false
        },
        "nteract": {
          "transient": {
            "deleting": false
          }
        },
        "gather": {
          "logged": 1682529993392
        }
      }
    },
    {
      "cell_type": "markdown",
      "source": [
        "# Test the endpoint with sample data\r\n",
        "Using the `MLClient` created earlier, we will get a handle to the endpoint. The endpoint can be invoked using the `invoke` command with the following parameters:\r\n",
        "- `endpoint_name` - Name of the endpoint\r\n",
        "- `request_file` - File with request data\r\n",
        "- `deployment_name` - Name of the specific deployment to test in an endpoint\r\n",
        "\r\n",
        "We will send a sample request using a [json](./model-1/sample-request.json) file. "
      ],
      "metadata": {
        "nteract": {
          "transient": {
            "deleting": false
          }
        }
      }
    },
    {
      "cell_type": "code",
      "source": [
        "# test the blue deployment with some sample data\r\n",
        "# comment this out as cluster under dev subscription can't be accessed from public internet.\r\n",
        "ml_client.online_endpoints.invoke(\r\n",
        "   endpoint_name=online_endpoint_name,\r\n",
        "   deployment_name='blue',\r\n",
        "   request_file=\"./{model_dir}/sample-request.json\".format(model_dir=registered_model_name),\r\n",
        ")"
      ],
      "outputs": [
        {
          "output_type": "execute_result",
          "execution_count": 101,
          "data": {
            "text/plain": "'[1, 1]'"
          },
          "metadata": {}
        }
      ],
      "execution_count": 101,
      "metadata": {
        "jupyter": {
          "source_hidden": false,
          "outputs_hidden": false
        },
        "nteract": {
          "transient": {
            "deleting": false
          }
        },
        "gather": {
          "logged": 1682530154827
        }
      }
    },
    {
      "cell_type": "markdown",
      "source": [
        "# Managing endpoints and deployments\r\n",
        "\r\n",
        "## Get details of the endpoint"
      ],
      "metadata": {
        "nteract": {
          "transient": {
            "deleting": false
          }
        }
      }
    },
    {
      "cell_type": "code",
      "source": [
        "# Get the details for online endpoint\r\n",
        "endpoint = ml_client.online_endpoints.get(name=online_endpoint_name)\r\n",
        "\r\n",
        "# existing traffic details\r\n",
        "print(endpoint.traffic)\r\n",
        "\r\n",
        "# Get the scoring URI\r\n",
        "print(endpoint.scoring_uri)"
      ],
      "outputs": [
        {
          "output_type": "stream",
          "name": "stdout",
          "text": "{'blue': 100}\nhttp://20.76.224.148/api/v1/endpoint/k8s-endpoint-04261712905175/score\n"
        }
      ],
      "execution_count": 102,
      "metadata": {
        "jupyter": {
          "source_hidden": false,
          "outputs_hidden": false
        },
        "nteract": {
          "transient": {
            "deleting": false
          }
        },
        "gather": {
          "logged": 1682530157821
        }
      }
    },
    {
      "cell_type": "markdown",
      "source": [
        "## Clean up resources\n",
        "\n",
        "If you're not going to use the endpoint, delete it to stop using the resource.  Make sure no other deployments are using an endpoint before you delete it.\n",
        "\n",
        "\n",
        "> [!NOTE]\n",
        "> Expect this step to take approximately 6 to 8 minutes."
      ],
      "metadata": {}
    },
    {
      "cell_type": "code",
      "source": [
        "# ml_client.online_endpoints.begin_delete(name=online_endpoint_name)"
      ],
      "outputs": [],
      "execution_count": null,
      "metadata": {
        "jupyter": {
          "source_hidden": false,
          "outputs_hidden": false
        },
        "nteract": {
          "transient": {
            "deleting": false
          }
        }
      }
    },
    {
      "cell_type": "markdown",
      "source": [
        "## Next Steps\n",
        "\n",
        "Learn more about [Azure ML logging](https://github.com/Azure/azureml-examples/blob/sdk-preview/notebooks/mlflow/mlflow-v1-comparison.ipynb)."
      ],
      "metadata": {}
    }
  ],
  "metadata": {
    "vscode": {
      "interpreter": {
        "hash": "78d13900fb236b5ce4c0b952de9b1270f1802c447ee20a989ea10ffd935aa825"
      }
    },
    "microsoft": {
      "ms_spell_check": {
        "ms_spell_check_language": "en"
      },
      "host": {
        "AzureML": {
          "notebookHasBeenCompleted": true
        }
      }
    },
    "kernel_info": {
      "name": "python310-sdkv2"
    },
    "language_info": {
      "name": "python",
      "version": "3.10.10",
      "mimetype": "text/x-python",
      "codemirror_mode": {
        "name": "ipython",
        "version": 3
      },
      "pygments_lexer": "ipython3",
      "nbconvert_exporter": "python",
      "file_extension": ".py"
    },
    "kernelspec": {
      "name": "python310-sdkv2",
      "language": "python",
      "display_name": "Python 3.10 - SDK v2"
    },
    "celltoolbar": "Edit Metadata",
    "description": {
      "description": "Create production ML pipelines with Python SDK v2 in a Jupyter notebook"
    },
    "nteract": {
      "version": "nteract-front-end@1.0.0"
    }
  },
  "nbformat": 4,
  "nbformat_minor": 1
}